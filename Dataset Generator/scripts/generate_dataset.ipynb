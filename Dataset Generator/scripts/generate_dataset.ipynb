1 - connect to google drive
1 - download darknet
cd 'drive/MyDrive/'
2 - alterar makefile
3 - 